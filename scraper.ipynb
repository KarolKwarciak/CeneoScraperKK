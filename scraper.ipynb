{
 "cells": [
  {
   "attachments": {},
   "cell_type": "markdown",
   "metadata": {},
   "source": [
    "# Ceneo Scraper"
   ]
  },
  {
   "attachments": {},
   "cell_type": "markdown",
   "metadata": {},
   "source": [
    "## Biblioteki"
   ]
  },
  {
   "cell_type": "code",
   "execution_count": null,
   "metadata": {},
   "outputs": [],
   "source": [
    "import requests\n",
    "from bs4 import BeautifulSoup"
   ]
  },
  {
   "attachments": {},
   "cell_type": "markdown",
   "metadata": {},
   "source": [
    "## Wysłanie żądania dostępu do zasobu do serwera"
   ]
  },
  {
   "cell_type": "code",
   "execution_count": null,
   "metadata": {},
   "outputs": [],
   "source": [
    "product_id = \"114700014\"\n",
    "url = f\"https://www.ceneo.pl/{product_id}/opinie-2\"\n",
    "response = requests.get(url)"
   ]
  },
  {
   "cell_type": "code",
   "execution_count": null,
   "metadata": {},
   "outputs": [],
   "source": [
    "page_dom = BeautifulSoup(response.text, \"html.parser\")\n",
    "print(type(page_dom))\n",
    "opinions = page_dom.select(\"div.js_product-review\")\n",
    "print(type(opinions))\n",
    "opinion = opinions.pop(0)\n",
    "print(type(opinion))\n",
    "print(opinion)"
   ]
  },
  {
   "attachments": {},
   "cell_type": "markdown",
   "metadata": {},
   "source": [
    "## Ekstrakcja składowych pojedynczej opinii\n",
    "|Składowa|Selektor|Zmienna|\n",
    "|--------|--------|-------|\n",
    "|ID opinii|data-entry-id |Opinion ID| \n",
    "|Autor|user-post__author-name |Author| \n",
    "|Rekomendacja|span.user-post__author-recomendation > em |Reccomendation| \n",
    "|gwiazdki|span.user-post__score|Ratings| \n",
    "|treść|div.user-post__text|Content| \n",
    "|Lista zalet|div.review-feature__title--positive ~ div.review-feature-item|Pros| \n",
    "|Lista wad|div.review-feature__title--negatives ~ div.review-feature__item|Cons| \n",
    "|Dla ilu przydatna|span[id^=\"votes-yes\"]|useful| \n",
    "|Dla ilu nieprzydatna|span[id^=\"votes-no\"]|uselles| \n",
    "|Data wystawienia|span.user-post__published > time:nth-child(1)[\"datetime\"]|post date| \n",
    "|Data zakupu|span.user-post__published > time:nth-child(2)[\"datetime\"]|purchase date| "
   ]
  },
  {
   "cell_type": "code",
   "execution_count": null,
   "metadata": {},
   "outputs": [],
   "source": [
    "opinion_id = opinion[\"data-entry-id\"]\n",
    "author = opinion.select_one('span.user-post__author-name')\n",
    "recommendation = opinion.select_one('span.user-post__author-recomendation > em')\n",
    "rating = opinion.select_one('span.user-post__score-count')\n",
    "content = opinion.select_one('div.user-post__text')\n",
    "pros = opinion.select('div.review-feature__title--positives ~ div.review-feature__item')\n",
    "cons = opinion.select('div.review-feature__title--negatives ~ div.review-feature__item')\n",
    "useful = opinion.select_one('span[id^=\"votes-yes\"]')\n",
    "useless = opinion.select_one('span[id^=\"votes-no\"]')\n",
    "post_date = opinion.select_one('span.user-post__published > time:nth-child(1)[\"datetime\"]')\n",
    "purchase_date = opinion.select_one('span.user-post__published > time:nth-child(2)[\"datetime\"]')"
   ]
  }
 ],
 "metadata": {
  "kernelspec": {
   "display_name": ".venv",
   "language": "python",
   "name": "python3"
  },
  "language_info": {
   "codemirror_mode": {
    "name": "ipython",
    "version": 3
   },
   "file_extension": ".py",
   "mimetype": "text/x-python",
   "name": "python",
   "nbconvert_exporter": "python",
   "pygments_lexer": "ipython3",
   "version": "3.11.4"
  },
  "orig_nbformat": 4
 },
 "nbformat": 4,
 "nbformat_minor": 2
}
