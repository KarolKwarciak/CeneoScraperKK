{
 "cells": [
  {
   "attachments": {},
   "cell_type": "markdown",
   "metadata": {},
   "source": [
    "# Ceneo Scraper"
   ]
  },
  {
   "attachments": {},
   "cell_type": "markdown",
   "metadata": {},
   "source": [
    "## Biblioteki"
   ]
  },
  {
   "cell_type": "code",
   "execution_count": 15,
   "metadata": {},
   "outputs": [],
   "source": [
    "import os\n",
    "import requests\n",
    "from bs4 import BeautifulSoup\n",
    "import json"
   ]
  },
  {
   "attachments": {},
   "cell_type": "markdown",
   "metadata": {},
   "source": [
    "## Wysłanie żądania dostępu do zasobu do serwera"
   ]
  },
  {
   "cell_type": "code",
   "execution_count": 16,
   "metadata": {},
   "outputs": [],
   "source": [
    "product_id = \"114700014\"\n",
    "url = f\"https://www.ceneo.pl/{product_id}/opinie-2\""
   ]
  },
  {
   "cell_type": "code",
   "execution_count": 17,
   "metadata": {},
   "outputs": [],
   "source": [
    "all_opinions = []\n",
    "while url:\n",
    "    response = requests.get(url)\n",
    "    page_dom = BeautifulSoup(response.text, \"html.parser\")\n",
    "    opinions = page_dom.select(\"div.js_product-review\")\n",
    "\n",
    "    for opinion in opinions:\n",
    "        try:\n",
    "            single_opinion = {\n",
    "                \"Opinion_ID\": opinion[\"data-entry-id\"],\n",
    "                \"Author\": opinion.select_one('span.user-post__author-name').get_text().strip(),\n",
    "                \"Recommendation\": opinion.select_one('span.user-post__author-recomendation > em').get_text().strip(),\n",
    "                \"Ratings\": opinion.select_one('span.user-post__score-count').get_text().strip(),\n",
    "                \"Content\": opinion.select_one('div.user-post__text').get_text().strip(),\n",
    "                \"Pros\": [p.get_text().strip() for p in opinion.select('div.review-feature__title--positives ~ div.review-feature__item')],\n",
    "                \"Cons\": [c.get_text().strip() for c in opinion.select('div.review-feature__title--negatives ~ div.review-feature__item')],\n",
    "                \"useful\": opinion.select_one('span[id^=\"votes-yes\"]').get_text().strip(),\n",
    "                \"useless\": opinion.select_one('span[id^=\"votes-no\"]').get_text().strip(),\n",
    "                \"post_date\": opinion.select_one('span.user-post__published > time:nth-child(1)')[\"datetime\"].strip(),\n",
    "                \"purchase_date\": opinion.select_one('span.user-post__published > time:nth-child(2)')[\"datetime\"].strip()\n",
    "            }\n",
    "            all_opinions.append(single_opinion)\n",
    "        except (AttributeError,TypeError):\n",
    "            pass\n",
    "    try:\n",
    "        url = \"https://www.ceneo.pl\" + page_dom.select_one(\"a.pagination__next\")[\"href\"]\n",
    "    except TypeError:\n",
    "        url = None"
   ]
  },
  {
   "attachments": {},
   "cell_type": "markdown",
   "metadata": {},
   "source": [
    "## Ekstrakcja składowych pojedynczej opinii\n",
    "|Składowa|Selektor|Zmienna|\n",
    "|--------|--------|-------|\n",
    "|ID opinii|data-entry-id |Opinion ID| \n",
    "|Autor|user-post__author-name |Author| \n",
    "|Rekomendacja|span.user-post__author-recomendation > em |Reccomendation| \n",
    "|gwiazdki|span.user-post__score|Ratings| \n",
    "|treść|div.user-post__text|Content| \n",
    "|Lista zalet|div.review-feature__title--positive ~ div.review-feature-item|Pros| \n",
    "|Lista wad|div.review-feature__title--negatives ~ div.review-feature__item|Cons| \n",
    "|Dla ilu przydatna|span[id^=\"votes-yes\"]|useful| \n",
    "|Dla ilu nieprzydatna|span[id^=\"votes-no\"]|uselles| \n",
    "|Data wystawienia|span.user-post__published > time:nth-child(1)[\"datetime\"]|post date| \n",
    "|Data zakupu|span.user-post__published > time:nth-child(2)[\"datetime\"]|purchase date| "
   ]
  },
  {
   "cell_type": "code",
   "execution_count": 18,
   "metadata": {},
   "outputs": [],
   "source": [
    "if not os.path.exists(\"opinions\"):\n",
    "    os.mkdir(\"opinions\")\n",
    "with open (f\"opinions/{product_id}.json\", \"w\", encoding =\"UTF-8\") as jf:\n",
    "    json.dump(all_opinions, jf, indent = 4, ensure_ascii=False)"
   ]
  },
  {
   "cell_type": "code",
   "execution_count": 19,
   "metadata": {},
   "outputs": [
    {
     "data": {
      "text/plain": [
       "164"
      ]
     },
     "execution_count": 19,
     "metadata": {},
     "output_type": "execute_result"
    }
   ],
   "source": [
    "len(all_opinions)"
   ]
  }
 ],
 "metadata": {
  "kernelspec": {
   "display_name": ".venv",
   "language": "python",
   "name": "python3"
  },
  "language_info": {
   "codemirror_mode": {
    "name": "ipython",
    "version": 3
   },
   "file_extension": ".py",
   "mimetype": "text/x-python",
   "name": "python",
   "nbconvert_exporter": "python",
   "pygments_lexer": "ipython3",
   "version": "3.11.4"
  },
  "orig_nbformat": 4
 },
 "nbformat": 4,
 "nbformat_minor": 2
}
