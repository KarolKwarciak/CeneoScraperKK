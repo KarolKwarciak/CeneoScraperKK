{
 "cells": [
  {
   "attachments": {},
   "cell_type": "markdown",
   "metadata": {},
   "source": [
    "# Ceneo Scraper"
   ]
  },
  {
   "attachments": {},
   "cell_type": "markdown",
   "metadata": {},
   "source": [
    "## Biblioteki"
   ]
  },
  {
   "cell_type": "code",
   "execution_count": 64,
   "metadata": {},
   "outputs": [],
   "source": [
    "import os\n",
    "import requests\n",
    "from bs4 import BeautifulSoup\n",
    "import json"
   ]
  },
  {
   "cell_type": "code",
   "execution_count": 65,
   "metadata": {},
   "outputs": [],
   "source": [
    "def extract(ancestor, selector=None, attribute=None, returns_list=False):\n",
    "    if selector:\n",
    "        if returns_list:\n",
    "            if attribute:\n",
    "                return [tag[attribute].strip() for tag in ancestor.select(selector)]\n",
    "            return [tag.get_text().strip() for tag in ancestor.select(selector)]\n",
    "        \n",
    "        if attribute:\n",
    "            try:\n",
    "                return ancestor.select_one(selector)[attribute].strip()\n",
    "            except TypeError:\n",
    "                return None\n",
    "\n",
    "        try:\n",
    "            return ancestor.select_one(selector).get_text().strip()\n",
    "        except AttributeError:\n",
    "            return None\n",
    "    if attribute:\n",
    "        return ancestor[attribute].strip()\n",
    "    return ancestor.get_text().strip()\n"
   ]
  },
  {
   "cell_type": "code",
   "execution_count": 66,
   "metadata": {},
   "outputs": [],
   "source": [
    "selectors = { \n",
    "                \"Opinion_ID\": (None, \"data-entry-id\",),\n",
    "                \"Author\": ('span.user-post__author-name',),\n",
    "                \"Recommendation\":('span.user-post__author-recommendation > em',),\n",
    "                \"Ratings\": ('span.user-post__score-count',),\n",
    "                \"Content\": ('div.user-post__text',),\n",
    "                \"Pros\": ('div.review-feature__title--positives ~ div.review-feature__item', None, True,),\n",
    "                \"Cons\": ('div.review-feature__title--negatives ~ div.review-feature__item', None, True,),\n",
    "                \"useful\": ('span[id^=\"votes-yes\"]',),\n",
    "                \"useless\": ('span[id^=\"votes-no\"]',),\n",
    "                \"post_date\": ('span.user-post__published > time:nth-child(1)',\"datetime\",),\n",
    "                \"purchase_date\": ('span.user-post__published > time:nth-child(2)',\"datetime\",)\n",
    "            }"
   ]
  },
  {
   "attachments": {},
   "cell_type": "markdown",
   "metadata": {},
   "source": [
    "## Wysłanie żądania dostępu do zasobu do serwera"
   ]
  },
  {
   "cell_type": "code",
   "execution_count": 67,
   "metadata": {},
   "outputs": [],
   "source": [
    "product_id = \"114700014\"\n",
    "url = f\"https://www.ceneo.pl/{product_id}/opinie-2\""
   ]
  },
  {
   "cell_type": "code",
   "execution_count": 68,
   "metadata": {},
   "outputs": [],
   "source": [
    "all_opinions = []\n",
    "while url:\n",
    "    response = requests.get(url)\n",
    "    page_dom = BeautifulSoup(response.text, \"html.parser\")\n",
    "    opinions = page_dom.select(\"div.js_product-review\")\n",
    "\n",
    "    for opinion in opinions:\n",
    "        single_opinion = {\n",
    "            key: extract(opinion, *value)\n",
    "                for key,value in selectors.items()\n",
    "            \n",
    "        }\n",
    "        all_opinions.append(single_opinion)\n",
    "    try:\n",
    "        url = \"https://www.ceneo.pl\" + extract(page_dom, \"a.pagination__next\",\"href\")\n",
    "    except TypeError:\n",
    "        url = None"
   ]
  },
  {
   "attachments": {},
   "cell_type": "markdown",
   "metadata": {},
   "source": [
    "## Ekstrakcja składowych pojedynczej opinii\n",
    "|Składowa|Selektor|Zmienna|\n",
    "|--------|--------|-------|\n",
    "|ID opinii|data-entry-id |Opinion ID| \n",
    "|Autor|user-post__author-name |Author| \n",
    "|Rekomendacja|span.user-post__author-recomendation > em |Reccomendation| \n",
    "|gwiazdki|span.user-post__score|Ratings| \n",
    "|treść|div.user-post__text|Content| \n",
    "|Lista zalet|div.review-feature__title--positive ~ div.review-feature-item|Pros| \n",
    "|Lista wad|div.review-feature__title--negatives ~ div.review-feature__item|Cons| \n",
    "|Dla ilu przydatna|span[id^=\"votes-yes\"]|useful| \n",
    "|Dla ilu nieprzydatna|span[id^=\"votes-no\"]|uselles| \n",
    "|Data wystawienia|span.user-post__published > time:nth-child(1)[\"datetime\"]|post date| \n",
    "|Data zakupu|span.user-post__published > time:nth-child(2)[\"datetime\"]|purchase date| "
   ]
  },
  {
   "cell_type": "code",
   "execution_count": 69,
   "metadata": {},
   "outputs": [],
   "source": [
    "if not os.path.exists(\"opinions\"):\n",
    "    os.mkdir(\"opinions\")\n",
    "with open (f\"opinions/{product_id}.json\", \"w\", encoding =\"UTF-8\") as jf:\n",
    "    json.dump(all_opinions, jf, indent = 4, ensure_ascii=False)"
   ]
  },
  {
   "cell_type": "code",
   "execution_count": 70,
   "metadata": {},
   "outputs": [
    {
     "data": {
      "text/plain": [
       "170"
      ]
     },
     "execution_count": 70,
     "metadata": {},
     "output_type": "execute_result"
    }
   ],
   "source": [
    "len(all_opinions)"
   ]
  }
 ],
 "metadata": {
  "kernelspec": {
   "display_name": ".venv",
   "language": "python",
   "name": "python3"
  },
  "language_info": {
   "codemirror_mode": {
    "name": "ipython",
    "version": 3
   },
   "file_extension": ".py",
   "mimetype": "text/x-python",
   "name": "python",
   "nbconvert_exporter": "python",
   "pygments_lexer": "ipython3",
   "version": "3.11.4"
  },
  "orig_nbformat": 4
 },
 "nbformat": 4,
 "nbformat_minor": 2
}
